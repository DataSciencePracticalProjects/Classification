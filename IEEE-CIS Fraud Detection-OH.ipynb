{
 "cells": [
  {
   "cell_type": "markdown",
   "id": "a9a88485-db28-41bd-9375-a309d47984d7",
   "metadata": {
    "tags": []
   },
   "source": [
    "## Libraries and functions"
   ]
  },
  {
   "cell_type": "code",
   "execution_count": 1,
   "id": "ec0f7e2a-76a9-43af-911b-05d2256dec67",
   "metadata": {},
   "outputs": [],
   "source": [
    "import pandas as pd\n",
    "import numpy as np\n",
    "import matplotlib.pyplot as plt\n",
    "import seaborn as sns\n",
    "from sklearn.preprocessing import LabelEncoder\n",
    "from sklearn.utils import resample\n",
    "from xgboost import XGBClassifier\n",
    "from sklearn.metrics import roc_auc_score, roc_curve\n",
    "from sklearn.model_selection import train_test_split\n",
    "from sklearn.linear_model import LogisticRegression\n",
    "import time\n",
    "import matplotlib.patches as mpatches\n",
    "from sklearn.metrics import confusion_matrix\n",
    "from sklearn.ensemble import RandomForestClassifier\n",
    "import warnings\n",
    "from sklearn import preprocessing\n",
    "from sklearn.preprocessing import MinMaxScaler\n",
    "from sklearn.model_selection import RandomizedSearchCV, GridSearchCV\n",
    "from sklearn.metrics import accuracy_score, precision_recall_curve, average_precision_score, auc, roc_curve\n",
    "from sklearn.metrics import confusion_matrix, classification_report, ConfusionMatrixDisplay, SCORERS\n",
    "from sklearn.metrics import accuracy_score, precision_score, recall_score, f1_score, fbeta_score\n",
    "from sklearn.model_selection import train_test_split, StratifiedKFold, KFold, LeaveOneOut\n",
    "from sklearn.ensemble import GradientBoostingClassifier, AdaBoostClassifier\n",
    "import xgboost as xgb"
   ]
  },
  {
   "cell_type": "code",
   "execution_count": 2,
   "id": "3d837443-f81f-472d-859d-364b0782fa75",
   "metadata": {},
   "outputs": [],
   "source": [
    "warnings.simplefilter(\"ignore\")"
   ]
  },
  {
   "cell_type": "code",
   "execution_count": 3,
   "id": "d1fe1feb-fc62-4ddd-9e84-e7509cd80bf3",
   "metadata": {},
   "outputs": [],
   "source": [
    "def reduce_mem_usage(df, verbose=True):\n",
    "    numerics = ['int16', 'int32', 'int64', 'float16', 'float32', 'float64']\n",
    "    start_mem = df.memory_usage().sum() / 1024**2    \n",
    "    for col in df.columns:\n",
    "        col_type = df[col].dtypes\n",
    "        if col_type in numerics:\n",
    "            c_min = df[col].min()\n",
    "            c_max = df[col].max()\n",
    "            if str(col_type)[:3] == 'int':\n",
    "                if c_min > np.iinfo(np.int8).min and c_max < np.iinfo(np.int8).max:\n",
    "                    df[col] = df[col].astype(np.int8)\n",
    "                elif c_min > np.iinfo(np.int16).min and c_max < np.iinfo(np.int16).max:\n",
    "                    df[col] = df[col].astype(np.int16)\n",
    "                elif c_min > np.iinfo(np.int32).min and c_max < np.iinfo(np.int32).max:\n",
    "                    df[col] = df[col].astype(np.int32)\n",
    "                elif c_min > np.iinfo(np.int64).min and c_max < np.iinfo(np.int64).max:\n",
    "                    df[col] = df[col].astype(np.int64)  \n",
    "            else:\n",
    "                if c_min > np.finfo(np.float16).min and c_max < np.finfo(np.float16).max:\n",
    "                    df[col] = df[col].astype(np.float16)\n",
    "                elif c_min > np.finfo(np.float32).min and c_max < np.finfo(np.float32).max:\n",
    "                    df[col] = df[col].astype(np.float32)\n",
    "                else:\n",
    "                    df[col] = df[col].astype(np.float64)    \n",
    "    end_mem = df.memory_usage().sum() / 1024**2\n",
    "    if verbose: print('Mem. usage decreased to {:5.2f} Mb ({:.1f}% reduction)'.format(end_mem, 100 * (start_mem - end_mem) / start_mem))\n",
    "    return df"
   ]
  },
  {
   "cell_type": "code",
   "execution_count": 4,
   "id": "1cc94353-fd13-4039-8240-6abacf3f2cff",
   "metadata": {},
   "outputs": [],
   "source": [
    "# improve how pandas numbers are displayed\n",
    "pd.set_option('display.float_format', lambda x: '%.4f' % x)\n",
    "pd.set_option('display.max_columns', 25)\n",
    "pd.set_option('display.max_rows', 50)\n",
    "\n",
    "np.set_printoptions(suppress=True)"
   ]
  },
  {
   "cell_type": "markdown",
   "id": "6556a20d-18b6-415d-8d77-7aca70353f42",
   "metadata": {
    "tags": []
   },
   "source": [
    "## Loading data"
   ]
  },
  {
   "cell_type": "markdown",
   "id": "08a2e448-5006-4a6b-8f97-fd30685a1341",
   "metadata": {
    "tags": []
   },
   "source": [
    "### Train data"
   ]
  },
  {
   "cell_type": "code",
   "execution_count": 5,
   "id": "b5821416-9391-48ed-8640-c68fe853285f",
   "metadata": {},
   "outputs": [
    {
     "name": "stdout",
     "output_type": "stream",
     "text": [
      "Train data set is loaded !\n",
      "Wall time: 13.2 s\n"
     ]
    }
   ],
   "source": [
    "%%time \n",
    "train_transactions=pd.read_csv('train_transaction.csv')\n",
    "train_identity=pd.read_csv('train_identity.csv')\n",
    "print('Train data set is loaded !')"
   ]
  },
  {
   "cell_type": "code",
   "execution_count": 6,
   "id": "4b79f0c6-ac72-4355-9d64-26806c0ff42f",
   "metadata": {},
   "outputs": [
    {
     "data": {
      "text/html": [
       "<div>\n",
       "<style scoped>\n",
       "    .dataframe tbody tr th:only-of-type {\n",
       "        vertical-align: middle;\n",
       "    }\n",
       "\n",
       "    .dataframe tbody tr th {\n",
       "        vertical-align: top;\n",
       "    }\n",
       "\n",
       "    .dataframe thead th {\n",
       "        text-align: right;\n",
       "    }\n",
       "</style>\n",
       "<table border=\"1\" class=\"dataframe\">\n",
       "  <thead>\n",
       "    <tr style=\"text-align: right;\">\n",
       "      <th></th>\n",
       "      <th>TransactionID</th>\n",
       "      <th>isFraud</th>\n",
       "      <th>TransactionDT</th>\n",
       "      <th>TransactionAmt</th>\n",
       "      <th>ProductCD</th>\n",
       "      <th>card1</th>\n",
       "      <th>card2</th>\n",
       "      <th>card3</th>\n",
       "      <th>card4</th>\n",
       "      <th>card5</th>\n",
       "      <th>card6</th>\n",
       "      <th>addr1</th>\n",
       "      <th>...</th>\n",
       "      <th>V328</th>\n",
       "      <th>V329</th>\n",
       "      <th>V330</th>\n",
       "      <th>V331</th>\n",
       "      <th>V332</th>\n",
       "      <th>V333</th>\n",
       "      <th>V334</th>\n",
       "      <th>V335</th>\n",
       "      <th>V336</th>\n",
       "      <th>V337</th>\n",
       "      <th>V338</th>\n",
       "      <th>V339</th>\n",
       "    </tr>\n",
       "  </thead>\n",
       "  <tbody>\n",
       "    <tr>\n",
       "      <th>0</th>\n",
       "      <td>2987000</td>\n",
       "      <td>0</td>\n",
       "      <td>86400</td>\n",
       "      <td>68.5000</td>\n",
       "      <td>W</td>\n",
       "      <td>13926</td>\n",
       "      <td>NaN</td>\n",
       "      <td>150.0000</td>\n",
       "      <td>discover</td>\n",
       "      <td>142.0000</td>\n",
       "      <td>credit</td>\n",
       "      <td>315.0000</td>\n",
       "      <td>...</td>\n",
       "      <td>NaN</td>\n",
       "      <td>NaN</td>\n",
       "      <td>NaN</td>\n",
       "      <td>NaN</td>\n",
       "      <td>NaN</td>\n",
       "      <td>NaN</td>\n",
       "      <td>NaN</td>\n",
       "      <td>NaN</td>\n",
       "      <td>NaN</td>\n",
       "      <td>NaN</td>\n",
       "      <td>NaN</td>\n",
       "      <td>NaN</td>\n",
       "    </tr>\n",
       "    <tr>\n",
       "      <th>1</th>\n",
       "      <td>2987001</td>\n",
       "      <td>0</td>\n",
       "      <td>86401</td>\n",
       "      <td>29.0000</td>\n",
       "      <td>W</td>\n",
       "      <td>2755</td>\n",
       "      <td>404.0000</td>\n",
       "      <td>150.0000</td>\n",
       "      <td>mastercard</td>\n",
       "      <td>102.0000</td>\n",
       "      <td>credit</td>\n",
       "      <td>325.0000</td>\n",
       "      <td>...</td>\n",
       "      <td>NaN</td>\n",
       "      <td>NaN</td>\n",
       "      <td>NaN</td>\n",
       "      <td>NaN</td>\n",
       "      <td>NaN</td>\n",
       "      <td>NaN</td>\n",
       "      <td>NaN</td>\n",
       "      <td>NaN</td>\n",
       "      <td>NaN</td>\n",
       "      <td>NaN</td>\n",
       "      <td>NaN</td>\n",
       "      <td>NaN</td>\n",
       "    </tr>\n",
       "    <tr>\n",
       "      <th>2</th>\n",
       "      <td>2987002</td>\n",
       "      <td>0</td>\n",
       "      <td>86469</td>\n",
       "      <td>59.0000</td>\n",
       "      <td>W</td>\n",
       "      <td>4663</td>\n",
       "      <td>490.0000</td>\n",
       "      <td>150.0000</td>\n",
       "      <td>visa</td>\n",
       "      <td>166.0000</td>\n",
       "      <td>debit</td>\n",
       "      <td>330.0000</td>\n",
       "      <td>...</td>\n",
       "      <td>NaN</td>\n",
       "      <td>NaN</td>\n",
       "      <td>NaN</td>\n",
       "      <td>NaN</td>\n",
       "      <td>NaN</td>\n",
       "      <td>NaN</td>\n",
       "      <td>NaN</td>\n",
       "      <td>NaN</td>\n",
       "      <td>NaN</td>\n",
       "      <td>NaN</td>\n",
       "      <td>NaN</td>\n",
       "      <td>NaN</td>\n",
       "    </tr>\n",
       "    <tr>\n",
       "      <th>3</th>\n",
       "      <td>2987003</td>\n",
       "      <td>0</td>\n",
       "      <td>86499</td>\n",
       "      <td>50.0000</td>\n",
       "      <td>W</td>\n",
       "      <td>18132</td>\n",
       "      <td>567.0000</td>\n",
       "      <td>150.0000</td>\n",
       "      <td>mastercard</td>\n",
       "      <td>117.0000</td>\n",
       "      <td>debit</td>\n",
       "      <td>476.0000</td>\n",
       "      <td>...</td>\n",
       "      <td>NaN</td>\n",
       "      <td>NaN</td>\n",
       "      <td>NaN</td>\n",
       "      <td>NaN</td>\n",
       "      <td>NaN</td>\n",
       "      <td>NaN</td>\n",
       "      <td>NaN</td>\n",
       "      <td>NaN</td>\n",
       "      <td>NaN</td>\n",
       "      <td>NaN</td>\n",
       "      <td>NaN</td>\n",
       "      <td>NaN</td>\n",
       "    </tr>\n",
       "    <tr>\n",
       "      <th>4</th>\n",
       "      <td>2987004</td>\n",
       "      <td>0</td>\n",
       "      <td>86506</td>\n",
       "      <td>50.0000</td>\n",
       "      <td>H</td>\n",
       "      <td>4497</td>\n",
       "      <td>514.0000</td>\n",
       "      <td>150.0000</td>\n",
       "      <td>mastercard</td>\n",
       "      <td>102.0000</td>\n",
       "      <td>credit</td>\n",
       "      <td>420.0000</td>\n",
       "      <td>...</td>\n",
       "      <td>0.0000</td>\n",
       "      <td>0.0000</td>\n",
       "      <td>0.0000</td>\n",
       "      <td>0.0000</td>\n",
       "      <td>0.0000</td>\n",
       "      <td>0.0000</td>\n",
       "      <td>0.0000</td>\n",
       "      <td>0.0000</td>\n",
       "      <td>0.0000</td>\n",
       "      <td>0.0000</td>\n",
       "      <td>0.0000</td>\n",
       "      <td>0.0000</td>\n",
       "    </tr>\n",
       "  </tbody>\n",
       "</table>\n",
       "<p>5 rows × 394 columns</p>\n",
       "</div>"
      ],
      "text/plain": [
       "   TransactionID  isFraud  TransactionDT  TransactionAmt ProductCD  card1  \\\n",
       "0        2987000        0          86400         68.5000         W  13926   \n",
       "1        2987001        0          86401         29.0000         W   2755   \n",
       "2        2987002        0          86469         59.0000         W   4663   \n",
       "3        2987003        0          86499         50.0000         W  18132   \n",
       "4        2987004        0          86506         50.0000         H   4497   \n",
       "\n",
       "     card2    card3       card4    card5   card6    addr1  ...   V328   V329  \\\n",
       "0      NaN 150.0000    discover 142.0000  credit 315.0000  ...    NaN    NaN   \n",
       "1 404.0000 150.0000  mastercard 102.0000  credit 325.0000  ...    NaN    NaN   \n",
       "2 490.0000 150.0000        visa 166.0000   debit 330.0000  ...    NaN    NaN   \n",
       "3 567.0000 150.0000  mastercard 117.0000   debit 476.0000  ...    NaN    NaN   \n",
       "4 514.0000 150.0000  mastercard 102.0000  credit 420.0000  ... 0.0000 0.0000   \n",
       "\n",
       "    V330   V331   V332   V333   V334   V335   V336   V337   V338   V339  \n",
       "0    NaN    NaN    NaN    NaN    NaN    NaN    NaN    NaN    NaN    NaN  \n",
       "1    NaN    NaN    NaN    NaN    NaN    NaN    NaN    NaN    NaN    NaN  \n",
       "2    NaN    NaN    NaN    NaN    NaN    NaN    NaN    NaN    NaN    NaN  \n",
       "3    NaN    NaN    NaN    NaN    NaN    NaN    NaN    NaN    NaN    NaN  \n",
       "4 0.0000 0.0000 0.0000 0.0000 0.0000 0.0000 0.0000 0.0000 0.0000 0.0000  \n",
       "\n",
       "[5 rows x 394 columns]"
      ]
     },
     "execution_count": 6,
     "metadata": {},
     "output_type": "execute_result"
    }
   ],
   "source": [
    "train_transactions.head()"
   ]
  },
  {
   "cell_type": "code",
   "execution_count": 7,
   "id": "1379a80f-8c15-4018-ae9f-58c38ab85d93",
   "metadata": {},
   "outputs": [
    {
     "name": "stdout",
     "output_type": "stream",
     "text": [
      "<class 'pandas.core.frame.DataFrame'>\n",
      "RangeIndex: 590540 entries, 0 to 590539\n",
      "Columns: 394 entries, TransactionID to V339\n",
      "dtypes: float64(376), int64(4), object(14)\n",
      "memory usage: 1.7+ GB\n"
     ]
    }
   ],
   "source": [
    "train_transactions.info()"
   ]
  },
  {
   "cell_type": "code",
   "execution_count": 8,
   "id": "e425aad1-4946-422f-8f35-e65902457f79",
   "metadata": {},
   "outputs": [
    {
     "data": {
      "text/html": [
       "<div>\n",
       "<style scoped>\n",
       "    .dataframe tbody tr th:only-of-type {\n",
       "        vertical-align: middle;\n",
       "    }\n",
       "\n",
       "    .dataframe tbody tr th {\n",
       "        vertical-align: top;\n",
       "    }\n",
       "\n",
       "    .dataframe thead th {\n",
       "        text-align: right;\n",
       "    }\n",
       "</style>\n",
       "<table border=\"1\" class=\"dataframe\">\n",
       "  <thead>\n",
       "    <tr style=\"text-align: right;\">\n",
       "      <th></th>\n",
       "      <th>TransactionID</th>\n",
       "      <th>id_01</th>\n",
       "      <th>id_02</th>\n",
       "      <th>id_03</th>\n",
       "      <th>id_04</th>\n",
       "      <th>id_05</th>\n",
       "      <th>id_06</th>\n",
       "      <th>id_07</th>\n",
       "      <th>id_08</th>\n",
       "      <th>id_09</th>\n",
       "      <th>id_10</th>\n",
       "      <th>id_11</th>\n",
       "      <th>...</th>\n",
       "      <th>id_29</th>\n",
       "      <th>id_30</th>\n",
       "      <th>id_31</th>\n",
       "      <th>id_32</th>\n",
       "      <th>id_33</th>\n",
       "      <th>id_34</th>\n",
       "      <th>id_35</th>\n",
       "      <th>id_36</th>\n",
       "      <th>id_37</th>\n",
       "      <th>id_38</th>\n",
       "      <th>DeviceType</th>\n",
       "      <th>DeviceInfo</th>\n",
       "    </tr>\n",
       "  </thead>\n",
       "  <tbody>\n",
       "    <tr>\n",
       "      <th>0</th>\n",
       "      <td>2987004</td>\n",
       "      <td>0.0000</td>\n",
       "      <td>70787.0000</td>\n",
       "      <td>NaN</td>\n",
       "      <td>NaN</td>\n",
       "      <td>NaN</td>\n",
       "      <td>NaN</td>\n",
       "      <td>NaN</td>\n",
       "      <td>NaN</td>\n",
       "      <td>NaN</td>\n",
       "      <td>NaN</td>\n",
       "      <td>100.0000</td>\n",
       "      <td>...</td>\n",
       "      <td>NotFound</td>\n",
       "      <td>Android 7.0</td>\n",
       "      <td>samsung browser 6.2</td>\n",
       "      <td>32.0000</td>\n",
       "      <td>2220x1080</td>\n",
       "      <td>match_status:2</td>\n",
       "      <td>T</td>\n",
       "      <td>F</td>\n",
       "      <td>T</td>\n",
       "      <td>T</td>\n",
       "      <td>mobile</td>\n",
       "      <td>SAMSUNG SM-G892A Build/NRD90M</td>\n",
       "    </tr>\n",
       "    <tr>\n",
       "      <th>1</th>\n",
       "      <td>2987008</td>\n",
       "      <td>-5.0000</td>\n",
       "      <td>98945.0000</td>\n",
       "      <td>NaN</td>\n",
       "      <td>NaN</td>\n",
       "      <td>0.0000</td>\n",
       "      <td>-5.0000</td>\n",
       "      <td>NaN</td>\n",
       "      <td>NaN</td>\n",
       "      <td>NaN</td>\n",
       "      <td>NaN</td>\n",
       "      <td>100.0000</td>\n",
       "      <td>...</td>\n",
       "      <td>NotFound</td>\n",
       "      <td>iOS 11.1.2</td>\n",
       "      <td>mobile safari 11.0</td>\n",
       "      <td>32.0000</td>\n",
       "      <td>1334x750</td>\n",
       "      <td>match_status:1</td>\n",
       "      <td>T</td>\n",
       "      <td>F</td>\n",
       "      <td>F</td>\n",
       "      <td>T</td>\n",
       "      <td>mobile</td>\n",
       "      <td>iOS Device</td>\n",
       "    </tr>\n",
       "    <tr>\n",
       "      <th>2</th>\n",
       "      <td>2987010</td>\n",
       "      <td>-5.0000</td>\n",
       "      <td>191631.0000</td>\n",
       "      <td>0.0000</td>\n",
       "      <td>0.0000</td>\n",
       "      <td>0.0000</td>\n",
       "      <td>0.0000</td>\n",
       "      <td>NaN</td>\n",
       "      <td>NaN</td>\n",
       "      <td>0.0000</td>\n",
       "      <td>0.0000</td>\n",
       "      <td>100.0000</td>\n",
       "      <td>...</td>\n",
       "      <td>Found</td>\n",
       "      <td>NaN</td>\n",
       "      <td>chrome 62.0</td>\n",
       "      <td>NaN</td>\n",
       "      <td>NaN</td>\n",
       "      <td>NaN</td>\n",
       "      <td>F</td>\n",
       "      <td>F</td>\n",
       "      <td>T</td>\n",
       "      <td>T</td>\n",
       "      <td>desktop</td>\n",
       "      <td>Windows</td>\n",
       "    </tr>\n",
       "    <tr>\n",
       "      <th>3</th>\n",
       "      <td>2987011</td>\n",
       "      <td>-5.0000</td>\n",
       "      <td>221832.0000</td>\n",
       "      <td>NaN</td>\n",
       "      <td>NaN</td>\n",
       "      <td>0.0000</td>\n",
       "      <td>-6.0000</td>\n",
       "      <td>NaN</td>\n",
       "      <td>NaN</td>\n",
       "      <td>NaN</td>\n",
       "      <td>NaN</td>\n",
       "      <td>100.0000</td>\n",
       "      <td>...</td>\n",
       "      <td>NotFound</td>\n",
       "      <td>NaN</td>\n",
       "      <td>chrome 62.0</td>\n",
       "      <td>NaN</td>\n",
       "      <td>NaN</td>\n",
       "      <td>NaN</td>\n",
       "      <td>F</td>\n",
       "      <td>F</td>\n",
       "      <td>T</td>\n",
       "      <td>T</td>\n",
       "      <td>desktop</td>\n",
       "      <td>NaN</td>\n",
       "    </tr>\n",
       "    <tr>\n",
       "      <th>4</th>\n",
       "      <td>2987016</td>\n",
       "      <td>0.0000</td>\n",
       "      <td>7460.0000</td>\n",
       "      <td>0.0000</td>\n",
       "      <td>0.0000</td>\n",
       "      <td>1.0000</td>\n",
       "      <td>0.0000</td>\n",
       "      <td>NaN</td>\n",
       "      <td>NaN</td>\n",
       "      <td>0.0000</td>\n",
       "      <td>0.0000</td>\n",
       "      <td>100.0000</td>\n",
       "      <td>...</td>\n",
       "      <td>Found</td>\n",
       "      <td>Mac OS X 10_11_6</td>\n",
       "      <td>chrome 62.0</td>\n",
       "      <td>24.0000</td>\n",
       "      <td>1280x800</td>\n",
       "      <td>match_status:2</td>\n",
       "      <td>T</td>\n",
       "      <td>F</td>\n",
       "      <td>T</td>\n",
       "      <td>T</td>\n",
       "      <td>desktop</td>\n",
       "      <td>MacOS</td>\n",
       "    </tr>\n",
       "  </tbody>\n",
       "</table>\n",
       "<p>5 rows × 41 columns</p>\n",
       "</div>"
      ],
      "text/plain": [
       "   TransactionID   id_01       id_02  id_03  id_04  id_05   id_06  id_07  \\\n",
       "0        2987004  0.0000  70787.0000    NaN    NaN    NaN     NaN    NaN   \n",
       "1        2987008 -5.0000  98945.0000    NaN    NaN 0.0000 -5.0000    NaN   \n",
       "2        2987010 -5.0000 191631.0000 0.0000 0.0000 0.0000  0.0000    NaN   \n",
       "3        2987011 -5.0000 221832.0000    NaN    NaN 0.0000 -6.0000    NaN   \n",
       "4        2987016  0.0000   7460.0000 0.0000 0.0000 1.0000  0.0000    NaN   \n",
       "\n",
       "   id_08  id_09  id_10    id_11  ...     id_29             id_30  \\\n",
       "0    NaN    NaN    NaN 100.0000  ...  NotFound       Android 7.0   \n",
       "1    NaN    NaN    NaN 100.0000  ...  NotFound        iOS 11.1.2   \n",
       "2    NaN 0.0000 0.0000 100.0000  ...     Found               NaN   \n",
       "3    NaN    NaN    NaN 100.0000  ...  NotFound               NaN   \n",
       "4    NaN 0.0000 0.0000 100.0000  ...     Found  Mac OS X 10_11_6   \n",
       "\n",
       "                 id_31   id_32      id_33           id_34  id_35  id_36  \\\n",
       "0  samsung browser 6.2 32.0000  2220x1080  match_status:2      T      F   \n",
       "1   mobile safari 11.0 32.0000   1334x750  match_status:1      T      F   \n",
       "2          chrome 62.0     NaN        NaN             NaN      F      F   \n",
       "3          chrome 62.0     NaN        NaN             NaN      F      F   \n",
       "4          chrome 62.0 24.0000   1280x800  match_status:2      T      F   \n",
       "\n",
       "   id_37  id_38  DeviceType                     DeviceInfo  \n",
       "0      T      T      mobile  SAMSUNG SM-G892A Build/NRD90M  \n",
       "1      F      T      mobile                     iOS Device  \n",
       "2      T      T     desktop                        Windows  \n",
       "3      T      T     desktop                            NaN  \n",
       "4      T      T     desktop                          MacOS  \n",
       "\n",
       "[5 rows x 41 columns]"
      ]
     },
     "execution_count": 8,
     "metadata": {},
     "output_type": "execute_result"
    }
   ],
   "source": [
    "train_identity.head()"
   ]
  },
  {
   "cell_type": "code",
   "execution_count": 9,
   "id": "6cec7591-300b-4a43-bf0a-705f64adc58e",
   "metadata": {},
   "outputs": [
    {
     "name": "stdout",
     "output_type": "stream",
     "text": [
      "<class 'pandas.core.frame.DataFrame'>\n",
      "RangeIndex: 144233 entries, 0 to 144232\n",
      "Data columns (total 41 columns):\n",
      " #   Column         Non-Null Count   Dtype  \n",
      "---  ------         --------------   -----  \n",
      " 0   TransactionID  144233 non-null  int64  \n",
      " 1   id_01          144233 non-null  float64\n",
      " 2   id_02          140872 non-null  float64\n",
      " 3   id_03          66324 non-null   float64\n",
      " 4   id_04          66324 non-null   float64\n",
      " 5   id_05          136865 non-null  float64\n",
      " 6   id_06          136865 non-null  float64\n",
      " 7   id_07          5155 non-null    float64\n",
      " 8   id_08          5155 non-null    float64\n",
      " 9   id_09          74926 non-null   float64\n",
      " 10  id_10          74926 non-null   float64\n",
      " 11  id_11          140978 non-null  float64\n",
      " 12  id_12          144233 non-null  object \n",
      " 13  id_13          127320 non-null  float64\n",
      " 14  id_14          80044 non-null   float64\n",
      " 15  id_15          140985 non-null  object \n",
      " 16  id_16          129340 non-null  object \n",
      " 17  id_17          139369 non-null  float64\n",
      " 18  id_18          45113 non-null   float64\n",
      " 19  id_19          139318 non-null  float64\n",
      " 20  id_20          139261 non-null  float64\n",
      " 21  id_21          5159 non-null    float64\n",
      " 22  id_22          5169 non-null    float64\n",
      " 23  id_23          5169 non-null    object \n",
      " 24  id_24          4747 non-null    float64\n",
      " 25  id_25          5132 non-null    float64\n",
      " 26  id_26          5163 non-null    float64\n",
      " 27  id_27          5169 non-null    object \n",
      " 28  id_28          140978 non-null  object \n",
      " 29  id_29          140978 non-null  object \n",
      " 30  id_30          77565 non-null   object \n",
      " 31  id_31          140282 non-null  object \n",
      " 32  id_32          77586 non-null   float64\n",
      " 33  id_33          73289 non-null   object \n",
      " 34  id_34          77805 non-null   object \n",
      " 35  id_35          140985 non-null  object \n",
      " 36  id_36          140985 non-null  object \n",
      " 37  id_37          140985 non-null  object \n",
      " 38  id_38          140985 non-null  object \n",
      " 39  DeviceType     140810 non-null  object \n",
      " 40  DeviceInfo     118666 non-null  object \n",
      "dtypes: float64(23), int64(1), object(17)\n",
      "memory usage: 45.1+ MB\n"
     ]
    }
   ],
   "source": [
    "train_identity.info()"
   ]
  },
  {
   "cell_type": "code",
   "execution_count": 10,
   "id": "238c34d0-1c87-4432-94c7-6d25a801f37f",
   "metadata": {},
   "outputs": [
    {
     "data": {
      "image/png": "[encoded data removed]",
      "text/plain": [
       "<Figure size 432x288 with 1 Axes>"
      ]
     },
     "metadata": {
      "needs_background": "light"
     },
     "output_type": "display_data"
    }
   ],
   "source": [
    "sns.countplot(x=train_transactions[\"isFraud\"]);"
   ]
  },
  {
   "cell_type": "markdown",
   "id": "cf66de24-85aa-41c9-b692-a093804fbd6a",
   "metadata": {},
   "source": [
    "There is clearly a class imbalace problem."
   ]
  },
  {
   "cell_type": "markdown",
   "id": "fcd40228-514c-44ac-85e9-6b066961aafc",
   "metadata": {},
   "source": [
    "### Merging training data"
   ]
  },
  {
   "cell_type": "code",
   "execution_count": 11,
   "id": "4bf7164d-5135-4db8-a4f1-737c82cf77ec",
   "metadata": {},
   "outputs": [
    {
     "name": "stdout",
     "output_type": "stream",
     "text": [
      "Train shape (590540, 434)\n",
      "Data set merged \n"
     ]
    }
   ],
   "source": [
    "train_df = train_transactions.merge(train_identity, how=\"left\", on=\"TransactionID\")\n",
    "print('Train shape',train_df.shape)\n",
    "\n",
    "print(\"Data set merged \")\n",
    "del train_transactions, train_identity"
   ]
  },
  {
   "cell_type": "markdown",
   "id": "773b3c4d-fdd6-42bd-8e70-48b7462c6a60",
   "metadata": {},
   "source": [
    "### Reducing training memory usage"
   ]
  },
  {
   "cell_type": "code",
   "execution_count": 12,
   "id": "eb93a975-445a-47e8-ae58-a359009b8a7b",
   "metadata": {},
   "outputs": [
    {
     "name": "stdout",
     "output_type": "stream",
     "text": [
      "Mem. usage decreased to 650.48 Mb (66.8% reduction)\n",
      "Wall time: 1min 2s\n"
     ]
    }
   ],
   "source": [
    "%%time\n",
    "train_df = reduce_mem_usage(train_df)"
   ]
  },
  {
   "cell_type": "markdown",
   "id": "e8b2cda0-7888-453b-b8c5-5befe860f357",
   "metadata": {},
   "source": [
    "### Load test data"
   ]
  },
  {
   "cell_type": "code",
   "execution_count": 13,
   "id": "ec824e81-c275-45f8-902a-debded567126",
   "metadata": {},
   "outputs": [
    {
     "name": "stdout",
     "output_type": "stream",
     "text": [
      "Test data set is loaded !\n",
      "Wall time: 11.8 s\n"
     ]
    }
   ],
   "source": [
    "%%time \n",
    "test_transaction=pd.read_csv('test_transaction.csv')\n",
    "test_identity=pd.read_csv('test_identity.csv')\n",
    "sample_submission=pd.read_csv('sample_submission.csv')\n",
    "print('Test data set is loaded !')"
   ]
  },
  {
   "cell_type": "markdown",
   "id": "547ee065-6765-43ec-8602-95fd709a6508",
   "metadata": {},
   "source": [
    "### Merging testing data"
   ]
  },
  {
   "cell_type": "code",
   "execution_count": 14,
   "id": "056815de-6e7b-40d6-92a6-5ad8a2a62b99",
   "metadata": {},
   "outputs": [
    {
     "name": "stdout",
     "output_type": "stream",
     "text": [
      "Train shape (590540, 434)\n",
      "Data set merged \n",
      "Wall time: 4.89 s\n"
     ]
    }
   ],
   "source": [
    "%%time\n",
    "test_df = test_transaction.merge(test_identity, how=\"left\", on=\"TransactionID\")\n",
    "\n",
    "print('Train shape',train_df.shape)\n",
    "\n",
    "print(\"Data set merged \")\n",
    "\n",
    "del test_transaction, test_identity"
   ]
  },
  {
   "cell_type": "markdown",
   "id": "79a51f2b-9c57-4ca4-864b-1ffb5943c559",
   "metadata": {},
   "source": [
    "### Reducing testing memory usage"
   ]
  },
  {
   "cell_type": "code",
   "execution_count": 15,
   "id": "c1958ed5-75a0-42f5-86a1-64ebff855178",
   "metadata": {},
   "outputs": [
    {
     "name": "stdout",
     "output_type": "stream",
     "text": [
      "Mem. usage decreased to 565.37 Mb (66.3% reduction)\n",
      "Wall time: 55.3 s\n"
     ]
    }
   ],
   "source": [
    "%%time\n",
    "test_df = reduce_mem_usage(test_df)"
   ]
  },
  {
   "cell_type": "code",
   "execution_count": 16,
   "id": "6429d81e-57af-4bbd-b6ee-6dd41d12b666",
   "metadata": {},
   "outputs": [],
   "source": [
    "# fix columns names\n",
    "test_df= test_df.rename(columns=lambda x:\"_\".join(x.split(\"-\")))\n",
    "\n",
    "# set TransactionID as index\n",
    "train_df.set_index('TransactionID', inplace=True)\n",
    "test_df.set_index('TransactionID', inplace=True)"
   ]
  },
  {
   "cell_type": "markdown",
   "id": "b3ec4142-402a-4083-83b6-c6cf484254b1",
   "metadata": {
    "tags": []
   },
   "source": [
    "## Replace missing values and use label encoder for categorical variables"
   ]
  },
  {
   "cell_type": "code",
   "execution_count": 17,
   "id": "0aef5237-1517-45ed-8d62-fb03d6275188",
   "metadata": {},
   "outputs": [
    {
     "name": "stdout",
     "output_type": "stream",
     "text": [
      "(414, 3)\n",
      "Wall time: 1.11 s\n"
     ]
    },
    {
     "data": {
      "text/html": [
       "<div>\n",
       "<style scoped>\n",
       "    .dataframe tbody tr th:only-of-type {\n",
       "        vertical-align: middle;\n",
       "    }\n",
       "\n",
       "    .dataframe tbody tr th {\n",
       "        vertical-align: top;\n",
       "    }\n",
       "\n",
       "    .dataframe thead th {\n",
       "        text-align: right;\n",
       "    }\n",
       "</style>\n",
       "<table border=\"1\" class=\"dataframe\">\n",
       "  <thead>\n",
       "    <tr style=\"text-align: right;\">\n",
       "      <th></th>\n",
       "      <th>nan_sum</th>\n",
       "      <th>all_values</th>\n",
       "      <th>percentage_of_nan</th>\n",
       "    </tr>\n",
       "  </thead>\n",
       "  <tbody>\n",
       "    <tr>\n",
       "      <th>id_24</th>\n",
       "      <td>585793</td>\n",
       "      <td>590540</td>\n",
       "      <td>99.2000</td>\n",
       "    </tr>\n",
       "    <tr>\n",
       "      <th>id_07</th>\n",
       "      <td>585385</td>\n",
       "      <td>590540</td>\n",
       "      <td>99.1300</td>\n",
       "    </tr>\n",
       "    <tr>\n",
       "      <th>id_08</th>\n",
       "      <td>585385</td>\n",
       "      <td>590540</td>\n",
       "      <td>99.1300</td>\n",
       "    </tr>\n",
       "    <tr>\n",
       "      <th>id_21</th>\n",
       "      <td>585381</td>\n",
       "      <td>590540</td>\n",
       "      <td>99.1300</td>\n",
       "    </tr>\n",
       "    <tr>\n",
       "      <th>id_26</th>\n",
       "      <td>585377</td>\n",
       "      <td>590540</td>\n",
       "      <td>99.1300</td>\n",
       "    </tr>\n",
       "    <tr>\n",
       "      <th>id_25</th>\n",
       "      <td>585408</td>\n",
       "      <td>590540</td>\n",
       "      <td>99.1300</td>\n",
       "    </tr>\n",
       "    <tr>\n",
       "      <th>id_23</th>\n",
       "      <td>585371</td>\n",
       "      <td>590540</td>\n",
       "      <td>99.1200</td>\n",
       "    </tr>\n",
       "    <tr>\n",
       "      <th>id_27</th>\n",
       "      <td>585371</td>\n",
       "      <td>590540</td>\n",
       "      <td>99.1200</td>\n",
       "    </tr>\n",
       "    <tr>\n",
       "      <th>id_22</th>\n",
       "      <td>585371</td>\n",
       "      <td>590540</td>\n",
       "      <td>99.1200</td>\n",
       "    </tr>\n",
       "    <tr>\n",
       "      <th>dist2</th>\n",
       "      <td>552913</td>\n",
       "      <td>590540</td>\n",
       "      <td>93.6300</td>\n",
       "    </tr>\n",
       "    <tr>\n",
       "      <th>D7</th>\n",
       "      <td>551623</td>\n",
       "      <td>590540</td>\n",
       "      <td>93.4100</td>\n",
       "    </tr>\n",
       "    <tr>\n",
       "      <th>id_18</th>\n",
       "      <td>545427</td>\n",
       "      <td>590540</td>\n",
       "      <td>92.3600</td>\n",
       "    </tr>\n",
       "    <tr>\n",
       "      <th>D13</th>\n",
       "      <td>528588</td>\n",
       "      <td>590540</td>\n",
       "      <td>89.5100</td>\n",
       "    </tr>\n",
       "    <tr>\n",
       "      <th>D14</th>\n",
       "      <td>528353</td>\n",
       "      <td>590540</td>\n",
       "      <td>89.4700</td>\n",
       "    </tr>\n",
       "    <tr>\n",
       "      <th>D12</th>\n",
       "      <td>525823</td>\n",
       "      <td>590540</td>\n",
       "      <td>89.0400</td>\n",
       "    </tr>\n",
       "    <tr>\n",
       "      <th>id_04</th>\n",
       "      <td>524216</td>\n",
       "      <td>590540</td>\n",
       "      <td>88.7700</td>\n",
       "    </tr>\n",
       "    <tr>\n",
       "      <th>id_03</th>\n",
       "      <td>524216</td>\n",
       "      <td>590540</td>\n",
       "      <td>88.7700</td>\n",
       "    </tr>\n",
       "    <tr>\n",
       "      <th>D6</th>\n",
       "      <td>517353</td>\n",
       "      <td>590540</td>\n",
       "      <td>87.6100</td>\n",
       "    </tr>\n",
       "    <tr>\n",
       "      <th>id_33</th>\n",
       "      <td>517251</td>\n",
       "      <td>590540</td>\n",
       "      <td>87.5900</td>\n",
       "    </tr>\n",
       "    <tr>\n",
       "      <th>id_10</th>\n",
       "      <td>515614</td>\n",
       "      <td>590540</td>\n",
       "      <td>87.3100</td>\n",
       "    </tr>\n",
       "    <tr>\n",
       "      <th>D9</th>\n",
       "      <td>515614</td>\n",
       "      <td>590540</td>\n",
       "      <td>87.3100</td>\n",
       "    </tr>\n",
       "    <tr>\n",
       "      <th>id_09</th>\n",
       "      <td>515614</td>\n",
       "      <td>590540</td>\n",
       "      <td>87.3100</td>\n",
       "    </tr>\n",
       "    <tr>\n",
       "      <th>D8</th>\n",
       "      <td>515614</td>\n",
       "      <td>590540</td>\n",
       "      <td>87.3100</td>\n",
       "    </tr>\n",
       "    <tr>\n",
       "      <th>id_30</th>\n",
       "      <td>512975</td>\n",
       "      <td>590540</td>\n",
       "      <td>86.8700</td>\n",
       "    </tr>\n",
       "    <tr>\n",
       "      <th>id_32</th>\n",
       "      <td>512954</td>\n",
       "      <td>590540</td>\n",
       "      <td>86.8600</td>\n",
       "    </tr>\n",
       "    <tr>\n",
       "      <th>id_34</th>\n",
       "      <td>512735</td>\n",
       "      <td>590540</td>\n",
       "      <td>86.8200</td>\n",
       "    </tr>\n",
       "    <tr>\n",
       "      <th>id_14</th>\n",
       "      <td>510496</td>\n",
       "      <td>590540</td>\n",
       "      <td>86.4500</td>\n",
       "    </tr>\n",
       "    <tr>\n",
       "      <th>V157</th>\n",
       "      <td>508595</td>\n",
       "      <td>590540</td>\n",
       "      <td>86.1200</td>\n",
       "    </tr>\n",
       "    <tr>\n",
       "      <th>V155</th>\n",
       "      <td>508595</td>\n",
       "      <td>590540</td>\n",
       "      <td>86.1200</td>\n",
       "    </tr>\n",
       "    <tr>\n",
       "      <th>V156</th>\n",
       "      <td>508595</td>\n",
       "      <td>590540</td>\n",
       "      <td>86.1200</td>\n",
       "    </tr>\n",
       "  </tbody>\n",
       "</table>\n",
       "</div>"
      ],
      "text/plain": [
       "       nan_sum  all_values  percentage_of_nan\n",
       "id_24   585793      590540            99.2000\n",
       "id_07   585385      590540            99.1300\n",
       "id_08   585385      590540            99.1300\n",
       "id_21   585381      590540            99.1300\n",
       "id_26   585377      590540            99.1300\n",
       "id_25   585408      590540            99.1300\n",
       "id_23   585371      590540            99.1200\n",
       "id_27   585371      590540            99.1200\n",
       "id_22   585371      590540            99.1200\n",
       "dist2   552913      590540            93.6300\n",
       "D7      551623      590540            93.4100\n",
       "id_18   545427      590540            92.3600\n",
       "D13     528588      590540            89.5100\n",
       "D14     528353      590540            89.4700\n",
       "D12     525823      590540            89.0400\n",
       "id_04   524216      590540            88.7700\n",
       "id_03   524216      590540            88.7700\n",
       "D6      517353      590540            87.6100\n",
       "id_33   517251      590540            87.5900\n",
       "id_10   515614      590540            87.3100\n",
       "D9      515614      590540            87.3100\n",
       "id_09   515614      590540            87.3100\n",
       "D8      515614      590540            87.3100\n",
       "id_30   512975      590540            86.8700\n",
       "id_32   512954      590540            86.8600\n",
       "id_34   512735      590540            86.8200\n",
       "id_14   510496      590540            86.4500\n",
       "V157    508595      590540            86.1200\n",
       "V155    508595      590540            86.1200\n",
       "V156    508595      590540            86.1200"
      ]
     },
     "execution_count": 17,
     "metadata": {},
     "output_type": "execute_result"
    }
   ],
   "source": [
    "%%time\n",
    "nan_values = pd.DataFrame(train_df.isna().sum())\n",
    "nan_values.columns = ['nan_sum']\n",
    "nan_values = nan_values[nan_values.nan_sum != 0]\n",
    "\n",
    "# NAN values percentage in the column\n",
    "nan_values['all_values'] = len(train_df)\n",
    "nan_values['percentage_of_nan'] = round((nan_values.nan_sum / nan_values.all_values *100),2)\n",
    "nan_values = nan_values.sort_values(by='percentage_of_nan', ascending=False)\n",
    "print(nan_values.shape)\n",
    "nan_values.head(30)"
   ]
  },
  {
   "cell_type": "code",
   "execution_count": 18,
   "id": "d076b22f-3843-48c3-baf3-b3874d5c08d7",
   "metadata": {},
   "outputs": [
    {
     "name": "stdout",
     "output_type": "stream",
     "text": [
      "Wall time: 3.9 s\n"
     ]
    }
   ],
   "source": [
    "%%time\n",
    "\n",
    "# Replace missing values with 0\n",
    "train_df = train_df.fillna(0)\n",
    "test_df = test_df.fillna(0)"
   ]
  },
  {
   "cell_type": "code",
   "execution_count": 19,
   "id": "21e87ccd-60ae-4eeb-92ad-5fcedf943cc6",
   "metadata": {},
   "outputs": [
    {
     "name": "stdout",
     "output_type": "stream",
     "text": [
      "Wall time: 32.9 s\n"
     ]
    }
   ],
   "source": [
    "%%time\n",
    "\n",
    "# Label Encoding\n",
    "for f in train_df.columns:\n",
    "    if train_df[f].dtype=='object': \n",
    "        lbl = LabelEncoder()\n",
    "        lbl.fit(list(train_df[f].values))\n",
    "        train_df[f] = lbl.transform(list(train_df[f].values)) \n",
    "\n",
    "for f in test_df.columns:\n",
    "    if test_df[f].dtype=='object': \n",
    "        lbl = LabelEncoder()\n",
    "        lbl.fit(list(test_df[f].values))\n",
    "        test_df[f] = lbl.transform(list(test_df[f].values))"
   ]
  },
  {
   "cell_type": "code",
   "execution_count": 20,
   "id": "ba391bf2-1d1e-44b5-bad5-f850b59985dc",
   "metadata": {},
   "outputs": [],
   "source": [
    "X_train, X_test, y_train, y_test = train_test_split(train_df.drop('isFraud', axis=1), train_df['isFraud'].astype('uint8'), test_size=.2, random_state=42, stratify=train_df['isFraud'].astype('uint8'))"
   ]
  },
  {
   "cell_type": "code",
   "execution_count": 21,
   "id": "cb11fc2a-ee8f-4886-9465-40b1c5d71155",
   "metadata": {},
   "outputs": [
    {
     "data": {
      "image/png": "[encoded data removed]",
      "text/plain": [
       "<Figure size 432x288 with 1 Axes>"
      ]
     },
     "metadata": {
      "needs_background": "light"
     },
     "output_type": "display_data"
    }
   ],
   "source": [
    "df_majority = X_train[y_train == 0]\n",
    "df_minority = X_train[y_train == 1]\n",
    "size_minor = len(df_minority)\n",
    "\n",
    "y_majority = y_train[y_train == 0]\n",
    "y_minority = y_train[y_train == 1]\n",
    "\n",
    "# Downsample majority class\n",
    "df_majority_downsampled = resample(df_majority, \n",
    "                   replace=False,    # sample with replacement\n",
    "                   n_samples=size_minor,    # to match majority class\n",
    "                   random_state=42)  # reproducible results\n",
    "\n",
    "X_down_train = pd.concat([df_minority, df_majority_downsampled])\n",
    "# print(X_down_train.shape)\n",
    "\n",
    "y_majority_downsampled = y_majority[df_majority_downsampled.index]\n",
    "y_down_train = pd.concat([y_minority, y_majority_downsampled])\n",
    "# y_down_train.value_counts()\n",
    "\n",
    "sns.countplot(x = y_down_train);"
   ]
  },
  {
   "cell_type": "markdown",
   "id": "850bd145-06ea-43e0-a23d-18d8a788c9d2",
   "metadata": {},
   "source": [
    "## Standartization"
   ]
  },
  {
   "cell_type": "markdown",
   "id": "67dfc262-7046-414f-ba6f-1271aded4ee0",
   "metadata": {},
   "source": [
    "### StandardScaler"
   ]
  },
  {
   "cell_type": "code",
   "execution_count": 22,
   "id": "0d44893b-42e2-4b47-b490-a099d1ed8241",
   "metadata": {
    "tags": []
   },
   "outputs": [
    {
     "name": "stdout",
     "output_type": "stream",
     "text": [
      "Wall time: 835 ms\n"
     ]
    }
   ],
   "source": [
    "%%time\n",
    "std_scaler = preprocessing.StandardScaler()\n",
    "X_train_std = std_scaler.fit_transform(X_down_train)\n",
    "X_test_std = std_scaler.transform(X_test)"
   ]
  },
  {
   "cell_type": "markdown",
   "id": "4f36db82-6681-44a4-ae01-ff281bbdd26b",
   "metadata": {},
   "source": [
    "### MinMax"
   ]
  },
  {
   "cell_type": "code",
   "execution_count": 23,
   "id": "8e9d1356-9f84-4520-8440-7cf3403d92ce",
   "metadata": {},
   "outputs": [],
   "source": [
    "min_max_scaler = MinMaxScaler()\n",
    "\n",
    "X_train_minmax = min_max_scaler.fit_transform(X_down_train)\n",
    "X_test_minmax = min_max_scaler.transform(X_test)"
   ]
  },
  {
   "cell_type": "markdown",
   "id": "1fa740d6-2e5d-45c8-a5e2-6ef4f4298e3f",
   "metadata": {},
   "source": [
    "### MinMax full values"
   ]
  },
  {
   "cell_type": "code",
   "execution_count": 24,
   "id": "d2728fee-8b9f-4a0a-acb9-bdcde1f2233e",
   "metadata": {},
   "outputs": [],
   "source": [
    "min_max_scaler = MinMaxScaler()\n",
    "\n",
    "X_train_minmax_full = min_max_scaler.fit_transform(X_train)\n",
    "X_test_minmax_full = min_max_scaler.transform(X_test)"
   ]
  },
  {
   "cell_type": "markdown",
   "id": "35619bdb-e26a-48fe-b417-30d963e2cd46",
   "metadata": {},
   "source": [
    "## Random Forest"
   ]
  },
  {
   "cell_type": "code",
   "execution_count": 25,
   "id": "74388e76-0ac9-49bd-82be-90af8fd678c7",
   "metadata": {},
   "outputs": [
    {
     "name": "stdout",
     "output_type": "stream",
     "text": [
      "ROC-AUC score: 0.924\n",
      "Wall time: 13.8 s\n"
     ]
    }
   ],
   "source": [
    "%%time\n",
    "clf_rf_down = RandomForestClassifier(random_state=42)\n",
    "model_rf_down = clf_rf_down.fit(X_down_train, y_down_train)\n",
    "# y_pred = model_rf_down.predict(X_test)\n",
    "y_prob = model_rf_down.predict_proba(X_test)[:, 1]\n",
    "print(f'ROC-AUC score: {roc_auc_score(y_test, y_prob):.3f}')"
   ]
  },
  {
   "attachments": {
    "e97abb1e-a148-4c51-982a-4a9532482558.png": {
     "image/png": "[encoded data removed]"
    }
   },
   "cell_type": "markdown",
   "id": "bd29dd6e-883a-4cfa-9b62-ad2778691ee5",
   "metadata": {},
   "source": [
    "![image.png](attachment:e97abb1e-a148-4c51-982a-4a9532482558.png)"
   ]
  },
  {
   "cell_type": "markdown",
   "id": "57048ca1-241b-4444-a9dd-9282112cc53c",
   "metadata": {
    "tags": []
   },
   "source": [
    "## GradientBoostingClassifier"
   ]
  },
  {
   "cell_type": "code",
   "execution_count": 26,
   "id": "bf009696-57f2-419c-9cfc-9b56e14a0a65",
   "metadata": {},
   "outputs": [
    {
     "name": "stdout",
     "output_type": "stream",
     "text": [
      "ROC-AUC score: 0.892\n",
      "Wall time: 41.1 s\n"
     ]
    }
   ],
   "source": [
    "%%time\n",
    "clf_gr_down = GradientBoostingClassifier(random_state=42)\n",
    "model_gr_down = clf_gr_down.fit(X_train_std, y_down_train)\n",
    "# y_pred = model_rf_down.predict(X_test)\n",
    "y_prob = model_gr_down.predict_proba(X_test_std)[:, 1]\n",
    "print(f'ROC-AUC score: {roc_auc_score(y_test, y_prob):.3f}')"
   ]
  },
  {
   "cell_type": "code",
   "execution_count": 27,
   "id": "77090758-dd7d-4ad1-8c3a-cdd010bbe8e6",
   "metadata": {},
   "outputs": [
    {
     "name": "stdout",
     "output_type": "stream",
     "text": [
      "ROC-AUC score: 0.892\n",
      "Wall time: 40.5 s\n"
     ]
    }
   ],
   "source": [
    "%%time\n",
    "clf_gr_down = GradientBoostingClassifier(random_state=42)\n",
    "model_gr_down = clf_gr_down.fit(X_train_minmax, y_down_train)\n",
    "# y_pred = model_rf_down.predict(X_test)\n",
    "y_prob = model_gr_down.predict_proba(X_test_minmax)[:, 1]\n",
    "print(f'ROC-AUC score: {roc_auc_score(y_test, y_prob):.3f}')"
   ]
  },
  {
   "cell_type": "markdown",
   "id": "36576788-0885-4eda-bbc7-2dc073b04167",
   "metadata": {
    "tags": []
   },
   "source": [
    "## Gradientboost with smote"
   ]
  },
  {
   "cell_type": "code",
   "execution_count": null,
   "id": "001dca91-ee83-4abf-9f57-9ce9af1aabec",
   "metadata": {
    "tags": []
   },
   "outputs": [],
   "source": [
    "# %%time\n",
    "# clf_gr_sm = GradientBoostingClassifier(random_state=42)\n",
    "# model_gr_sm = clf_gr_sm.fit(X_train_sm, y_train_sm)\n",
    "# # y_pred = model_rf_down.predict(X_test)\n",
    "# y_prob = model_gr_sm.predict_proba(X_test_std)[:, 1]\n",
    "# print(f'ROC-AUC score: {roc_auc_score(y_test, y_prob):.3f}')"
   ]
  },
  {
   "cell_type": "markdown",
   "id": "dc5718b0-8e98-4a0d-89e1-6607281529dd",
   "metadata": {
    "tags": []
   },
   "source": [
    "## AdaBoostClassifier"
   ]
  },
  {
   "cell_type": "code",
   "execution_count": 28,
   "id": "7da7c7fe-fb12-4f48-ae4f-bcb05023c04a",
   "metadata": {},
   "outputs": [
    {
     "name": "stdout",
     "output_type": "stream",
     "text": [
      "ROC-AUC score: 0.872\n",
      "Wall time: 15.8 s\n"
     ]
    }
   ],
   "source": [
    "%%time\n",
    "clf_ad_down = AdaBoostClassifier(random_state=42)\n",
    "model_ad_down = clf_ad_down.fit(X_train_std, y_down_train)\n",
    "# y_pred = model_rf_down.predict(X_test)\n",
    "y_prob = model_ad_down.predict_proba(X_test_std)[:, 1]\n",
    "print(f'ROC-AUC score: {roc_auc_score(y_test, y_prob):.3f}')"
   ]
  },
  {
   "cell_type": "markdown",
   "id": "02821220-f1b7-48c7-b9bd-ab98cbd28586",
   "metadata": {
    "tags": []
   },
   "source": [
    "## XGboost"
   ]
  },
  {
   "cell_type": "code",
   "execution_count": 29,
   "id": "f3ea318b-b1fc-4cb3-8629-bed83d4d3657",
   "metadata": {},
   "outputs": [
    {
     "name": "stdout",
     "output_type": "stream",
     "text": [
      "ROC-AUC score: 0.862\n",
      "Wall time: 855 ms\n"
     ]
    }
   ],
   "source": [
    "%%time\n",
    "xg_reg = xgb.XGBRegressor(objective ='reg:logistic', colsample_bytree = 0.3, learning_rate = 0.1,\n",
    "                max_depth = 5, alpha = 10, n_estimators = 10)\n",
    "model_xg_down = xg_reg.fit(X_train_std, y_down_train)\n",
    "# y_pred = model_rf_down.predict(X_test)\n",
    "y_prob = model_xg_down.predict(X_test_std)\n",
    "print(f'ROC-AUC score: {roc_auc_score(y_test, y_prob):.3f}')"
   ]
  },
  {
   "cell_type": "markdown",
   "id": "1e3f5efe-8968-4041-9839-f5a2c1fbd17b",
   "metadata": {
    "tags": []
   },
   "source": [
    "## Randomized search"
   ]
  },
  {
   "cell_type": "code",
   "execution_count": 30,
   "id": "aac9c418-79b7-4930-a4fa-2c1aa6b56ee4",
   "metadata": {},
   "outputs": [],
   "source": [
    "# %%time\n",
    "# score = \"roc_auc\"\n",
    "# tuned_parameters_rs = tuned_parameters = {'n_estimators': [30, 50, 100],\n",
    "#                'max_features': ['auto'],\n",
    "#                'min_samples_split': [3, 4, 5, 7],\n",
    "#                'bootstrap': [False],\n",
    "#                 }\n",
    "# clf_rs = RandomizedSearchCV(model_rf_down, tuned_parameters_rs, scoring=score, n_iter=16)\n",
    "# clf_rs.fit(X_res, y_res)\n",
    "# y_pred = clf_rs.predict(X_test_std)\n",
    "# print(f'Random Search F1: {roc_auc_score(y_true=y_test, y_pred=y_pred)}')\n",
    "# print(\"Best parameters set found on training set:\")\n",
    "# print(clf_rs.best_params_)"
   ]
  },
  {
   "cell_type": "code",
   "execution_count": 31,
   "id": "649894ac-1f3d-4ea6-bb56-fde14527d9aa",
   "metadata": {},
   "outputs": [],
   "source": [
    "from collections import Counter\n",
    "\n",
    "# Different ways to upsample\n",
    "from imblearn.over_sampling import SMOTE\n",
    "from imblearn.combine import SMOTETomek\n",
    "from imblearn.combine import SMOTEENN"
   ]
  },
  {
   "cell_type": "code",
   "execution_count": 32,
   "id": "7120af84-56ec-4ef9-95ac-f5f6547ac8f5",
   "metadata": {
    "tags": []
   },
   "outputs": [
    {
     "name": "stdout",
     "output_type": "stream",
     "text": [
      "Before: Counter({0: 455902, 1: 16530})\n",
      "After: Counter({0: 455902, 1: 455902})\n"
     ]
    }
   ],
   "source": [
    "counter_before = Counter(y_train)\n",
    "smt = SMOTE(random_state=42)\n",
    "X_train_sm, y_train_sm = smt.fit_resample(X_train_minmax_full, y_train)\n",
    "\n",
    "print(f'Before: {counter_before}')\n",
    "print(f'After: {Counter(y_train_sm)}')"
   ]
  },
  {
   "cell_type": "markdown",
   "id": "a577a7e1-405c-42a4-92d7-0df0d3fe514f",
   "metadata": {
    "tags": []
   },
   "source": [
    "## Fit the model"
   ]
  },
  {
   "cell_type": "code",
   "execution_count": 29,
   "id": "a826a669-23e6-4a18-8aa9-fe4b110fb35b",
   "metadata": {},
   "outputs": [],
   "source": [
    "# predictions_rf = clf_rf_down.predict_proba(test_df)[:,1]\n",
    "# submission = pd.DataFrame({'TransactionID':test_df.index,'isFraud':predictions_rf})\n",
    "# submission[\"TransactionID\"]=submission[\"TransactionID\"].astype(int)\n",
    "# submission.head()"
   ]
  },
  {
   "cell_type": "code",
   "execution_count": 30,
   "id": "b876d342-f89d-46b1-a194-30a14af7d10b",
   "metadata": {},
   "outputs": [],
   "source": [
    "# filename = 'rf_model_submission.csv'\n",
    "# submission.to_csv(filename, index=False)\n",
    "# print(f'Saved file: {filename}')"
   ]
  },
  {
   "cell_type": "code",
   "execution_count": null,
   "id": "10a484cd-caa3-4314-90c0-e934db1960b3",
   "metadata": {},
   "outputs": [],
   "source": []
  }
 ],
 "metadata": {
  "kernelspec": {
   "display_name": "Python 3 (ipykernel)",
   "language": "python",
   "name": "python3"
  },
  "language_info": {
   "codemirror_mode": {
    "name": "ipython",
    "version": 3
   },
   "file_extension": ".py",
   "mimetype": "text/x-python",
   "name": "python",
   "nbconvert_exporter": "python",
   "pygments_lexer": "ipython3",
   "version": "3.9.7"
  }
 },
 "nbformat": 4,
 "nbformat_minor": 5
}
